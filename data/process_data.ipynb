{
 "cells": [
  {
   "cell_type": "code",
   "execution_count": 2,
   "metadata": {},
   "outputs": [],
   "source": [
    "import pandas as pd "
   ]
  },
  {
   "cell_type": "code",
   "execution_count": 23,
   "metadata": {},
   "outputs": [],
   "source": [
    "data_path = './newsCorpora.csv'"
   ]
  },
  {
   "cell_type": "code",
   "execution_count": 24,
   "metadata": {},
   "outputs": [],
   "source": [
    "df = pd.read_csv(data_path, sep='\\t', header=None, names=['ID', 'TITLE', 'URL', 'PUBLISHER', 'CATEGORY', 'STORY', 'HOSTNAME', 'TIMESTAMP'])"
   ]
  },
  {
   "cell_type": "code",
   "execution_count": 25,
   "metadata": {},
   "outputs": [
    {
     "name": "stdout",
     "output_type": "stream",
     "text": [
      "<class 'pandas.core.frame.DataFrame'>\n",
      "RangeIndex: 422419 entries, 0 to 422418\n",
      "Data columns (total 8 columns):\n",
      " #   Column     Non-Null Count   Dtype \n",
      "---  ------     --------------   ----- \n",
      " 0   ID         422419 non-null  int64 \n",
      " 1   TITLE      422419 non-null  object\n",
      " 2   URL        422419 non-null  object\n",
      " 3   PUBLISHER  422417 non-null  object\n",
      " 4   CATEGORY   422419 non-null  object\n",
      " 5   STORY      422419 non-null  object\n",
      " 6   HOSTNAME   422419 non-null  object\n",
      " 7   TIMESTAMP  422419 non-null  int64 \n",
      "dtypes: int64(2), object(6)\n",
      "memory usage: 25.8+ MB\n"
     ]
    }
   ],
   "source": [
    "df.info()"
   ]
  },
  {
   "cell_type": "code",
   "execution_count": 26,
   "metadata": {},
   "outputs": [
    {
     "name": "stdout",
     "output_type": "stream",
     "text": [
      "<class 'pandas.core.frame.DataFrame'>\n",
      "Index: 13340 entries, 12 to 422319\n",
      "Data columns (total 8 columns):\n",
      " #   Column     Non-Null Count  Dtype \n",
      "---  ------     --------------  ----- \n",
      " 0   ID         13340 non-null  int64 \n",
      " 1   TITLE      13340 non-null  object\n",
      " 2   URL        13340 non-null  object\n",
      " 3   PUBLISHER  13340 non-null  object\n",
      " 4   CATEGORY   13340 non-null  object\n",
      " 5   STORY      13340 non-null  object\n",
      " 6   HOSTNAME   13340 non-null  object\n",
      " 7   TIMESTAMP  13340 non-null  int64 \n",
      "dtypes: int64(2), object(6)\n",
      "memory usage: 938.0+ KB\n"
     ]
    }
   ],
   "source": [
    "# Extract example from publisher \"Reuters\", \"Huffington Post\", \"Businessweek\", \"Contactmusic.com\", \"Daily Mail\".\n",
    "df = df[df['PUBLISHER'].isin(['Reuters', 'Huffington Post', 'Businessweek', 'Contactmusic.com', 'Daily Mail'])]\n",
    "df.info()"
   ]
  },
  {
   "cell_type": "code",
   "execution_count": 27,
   "metadata": {},
   "outputs": [
    {
     "data": {
      "text/plain": [
       "array(['Reuters', 'Businessweek', 'Huffington Post', 'Daily Mail',\n",
       "       'Contactmusic.com'], dtype=object)"
      ]
     },
     "execution_count": 27,
     "metadata": {},
     "output_type": "execute_result"
    }
   ],
   "source": [
    "df['PUBLISHER'].unique()"
   ]
  },
  {
   "cell_type": "code",
   "execution_count": 28,
   "metadata": {},
   "outputs": [],
   "source": [
    "# Rearrange the extracted examples in random order\n",
    "df = df.sample(frac=1, random_state=43).reset_index(drop=True)"
   ]
  },
  {
   "cell_type": "code",
   "execution_count": 29,
   "metadata": {},
   "outputs": [
    {
     "data": {
      "text/plain": [
       "array(['e', 't', 'b', 'm'], dtype=object)"
      ]
     },
     "execution_count": 29,
     "metadata": {},
     "output_type": "execute_result"
    }
   ],
   "source": [
    "df['CATEGORY'].unique()"
   ]
  },
  {
   "cell_type": "code",
   "execution_count": 30,
   "metadata": {},
   "outputs": [],
   "source": [
    "# split to train, valid, test\n",
    "train_size = int(len(df) * 0.8)\n",
    "valid_size = int(len(df) * 0.1)\n",
    "test_size = len(df) - train_size - valid_size\n",
    "df_train = df[:train_size][[\"CATEGORY\", \"TITLE\"]]\n",
    "df_valid = df[train_size:train_size + valid_size][[\"CATEGORY\", \"TITLE\"]]\n",
    "df_test = df[-test_size:][[\"CATEGORY\", \"TITLE\"]]"
   ]
  },
  {
   "cell_type": "code",
   "execution_count": 32,
   "metadata": {},
   "outputs": [
    {
     "name": "stdout",
     "output_type": "stream",
     "text": [
      "Number of samples for each label in the train set:\n",
      "CATEGORY\n",
      "b    4541\n",
      "e    4182\n",
      "t    1225\n",
      "m     724\n",
      "Name: count, dtype: int64\n",
      "\n",
      "Number of samples for each label in the valid set:\n",
      "CATEGORY\n",
      "b    554\n",
      "e    529\n",
      "t    157\n",
      "m     94\n",
      "Name: count, dtype: int64\n",
      "\n",
      "Number of samples for each label in the test set:\n",
      "CATEGORY\n",
      "e    568\n",
      "b    532\n",
      "t    142\n",
      "m     92\n",
      "Name: count, dtype: int64\n"
     ]
    }
   ],
   "source": [
    "# Count the number of samples for each label in the train set\n",
    "train_label_counts = df_train['CATEGORY'].value_counts()\n",
    "\n",
    "# Count the number of samples for each label in the valid set\n",
    "valid_label_counts = df_valid['CATEGORY'].value_counts()\n",
    "\n",
    "# Count the number of samples for each label in the test set\n",
    "test_label_counts = df_test['CATEGORY'].value_counts()\n",
    "\n",
    "\n",
    "print(\"Number of samples for each label in the train set:\")\n",
    "print(train_label_counts)\n",
    "print(\"\\nNumber of samples for each label in the valid set:\")\n",
    "print(valid_label_counts)\n",
    "print(\"\\nNumber of samples for each label in the test set:\")\n",
    "print(test_label_counts)\n"
   ]
  },
  {
   "cell_type": "code",
   "execution_count": 40,
   "metadata": {},
   "outputs": [
    {
     "name": "stdout",
     "output_type": "stream",
     "text": [
      "\n",
      "Average number of words in each sample in the train set: 10.47\n",
      "Maximum number of words in each sample in the train set: 201\n",
      "Minimum number of words in each sample in the train set: 2\n"
     ]
    }
   ],
   "source": [
    "# Calculate the average, maximum, and minimum number of words in samples in the train set\n",
    "train_word_counts = df_train['TITLE'].str.split().apply(len)\n",
    "train_avg_words = train_word_counts.mean()\n",
    "train_max_words = train_word_counts.max()\n",
    "train_min_words = train_word_counts.min()\n",
    "\n",
    "print(\"\\nAverage number of words in each sample in the train set: {:.2f}\".format(train_avg_words))\n",
    "print(\"Maximum number of words in each sample in the train set:\", train_max_words)\n",
    "print(\"Minimum number of words in each sample in the train set:\", train_min_words)\n"
   ]
  },
  {
   "cell_type": "code",
   "execution_count": 41,
   "metadata": {},
   "outputs": [
    {
     "name": "stdout",
     "output_type": "stream",
     "text": [
      "\n",
      "Average number of words in each sample in the valid set: 10.39\n",
      "Maximum number of words in each sample in the valid set: 19\n",
      "Minimum number of words in each sample in the valid set: 3\n"
     ]
    }
   ],
   "source": [
    "# Similarly, calculate the average, maximum, and minimum number of words in samples in the valid and test sets\n",
    "valid_word_counts = df_valid['TITLE'].str.split().apply(len)\n",
    "valid_avg_words = valid_word_counts.mean()\n",
    "valid_max_words = valid_word_counts.max()\n",
    "valid_min_words = valid_word_counts.min()\n",
    "\n",
    "print(\"\\nAverage number of words in each sample in the valid set: {:.2f}\".format(valid_avg_words))\n",
    "print(\"Maximum number of words in each sample in the valid set:\", valid_max_words)\n",
    "print(\"Minimum number of words in each sample in the valid set:\", valid_min_words)"
   ]
  },
  {
   "cell_type": "code",
   "execution_count": 42,
   "metadata": {},
   "outputs": [
    {
     "name": "stdout",
     "output_type": "stream",
     "text": [
      "\n",
      "Average number of words in each sample in the test set: 10.56\n",
      "Maximum number of words in each sample in the test set: 18\n",
      "Minimum number of words in each sample in the test set: 3\n"
     ]
    }
   ],
   "source": [
    "test_word_counts = df_test['TITLE'].str.split().apply(len)\n",
    "test_avg_words = test_word_counts.mean()\n",
    "test_max_words = test_word_counts.max()\n",
    "test_min_words = test_word_counts.min()\n",
    "\n",
    "print(\"\\nAverage number of words in each sample in the test set: {:.2f}\".format(test_avg_words))\n",
    "print(\"Maximum number of words in each sample in the test set:\", test_max_words)\n",
    "print(\"Minimum number of words in each sample in the test set:\", test_min_words)"
   ]
  },
  {
   "cell_type": "code",
   "execution_count": 43,
   "metadata": {},
   "outputs": [],
   "source": [
    "with open(\"train.txt\", \"w\") as f:\n",
    "    for _, row in df_train.iterrows():\n",
    "        f.write(f\"{row['TITLE']}\\t{row['CATEGORY']}\\n\")\n",
    "        \n",
    "with open(\"valid.txt\", \"w\") as f:\n",
    "    for _, row in df_valid.iterrows():\n",
    "        f.write(f\"{row['TITLE']}\\t{row['CATEGORY']}\\n\")\n",
    "\n",
    "with open(\"test.txt\", \"w\") as f:\n",
    "    for _, row in df_test.iterrows():\n",
    "        f.write(f\"{row['TITLE']}\\t{row['CATEGORY']}\\n\")"
   ]
  }
 ],
 "metadata": {
  "kernelspec": {
   "display_name": "Python 3",
   "language": "python",
   "name": "python3"
  },
  "language_info": {
   "codemirror_mode": {
    "name": "ipython",
    "version": 3
   },
   "file_extension": ".py",
   "mimetype": "text/x-python",
   "name": "python",
   "nbconvert_exporter": "python",
   "pygments_lexer": "ipython3",
   "version": "3.11.3"
  }
 },
 "nbformat": 4,
 "nbformat_minor": 2
}
